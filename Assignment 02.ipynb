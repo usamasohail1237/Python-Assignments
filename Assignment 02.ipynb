{
 "cells": [
  {
   "cell_type": "markdown",
   "metadata": {},
   "source": [
    "# Q no 1"
   ]
  },
  {
   "cell_type": "code",
   "execution_count": 1,
   "metadata": {},
   "outputs": [
    {
     "name": "stdout",
     "output_type": "stream",
     "text": [
      "Enter marks of Maths45\n",
      "Enter marks of Physics45\n",
      "Enter marks of Chemistry45\n",
      "Enter marks of Biology45\n",
      "Enter marks of English45\n",
      "The percentage of the person is 45.0 and grade is Fail \n"
     ]
    }
   ],
   "source": [
    "math = input(\"Enter marks of Maths\")\n",
    "physics = input(\"Enter marks of Physics\")\n",
    "chemistry = input(\"Enter marks of Chemistry\")\n",
    "biology = input(\"Enter marks of Biology\")\n",
    "english = input(\"Enter marks of English\")\n",
    "\n",
    "math = float(math)\n",
    "physics = float(physics)\n",
    "chemistry = float(chemistry)\n",
    "biology = float(biology)\n",
    "english = float(english)\n",
    "\n",
    "percentage = (math + physics + chemistry + biology + english)/5\n",
    "grade = ''\n",
    "\n",
    "if(percentage >= 80 and percentage < 100):\n",
    "    grade = 'A1'\n",
    "elif(percentage >= 70 and percentage < 80):\n",
    "    grade = 'A'\n",
    "elif(percentage >= 60 and percentage < 70):\n",
    "    grade = 'B'\n",
    "elif(percentage >= 50 and percentage < 60):\n",
    "    grade = 'C'\n",
    "else:\n",
    "    grade = 'Fail'\n",
    "    \n",
    "print(\"The percentage of the person is {} and grade is {} \".format(percentage,grade))\n"
   ]
  },
  {
   "cell_type": "markdown",
   "metadata": {},
   "source": [
    "# Q no 2"
   ]
  },
  {
   "cell_type": "code",
   "execution_count": 2,
   "metadata": {},
   "outputs": [
    {
     "name": "stdout",
     "output_type": "stream",
     "text": [
      "Enter number :6\n",
      "Even\n"
     ]
    }
   ],
   "source": [
    "num = input(\"Enter number :\")\n",
    "num = int(num)\n",
    "\n",
    "if(num % 2 == 0 ):\n",
    "    print(\"Even\")\n",
    "else:\n",
    "    print(\"Odd\")\n"
   ]
  },
  {
   "cell_type": "markdown",
   "metadata": {},
   "source": [
    "# Q no 3"
   ]
  },
  {
   "cell_type": "code",
   "execution_count": 3,
   "metadata": {},
   "outputs": [
    {
     "name": "stdout",
     "output_type": "stream",
     "text": [
      "The length of list is 10\n"
     ]
    }
   ],
   "source": [
    "list1 = [1,2,3,4,5,6,8,7,9,12]\n",
    "print(\"The length of list is\",(len(list1)))"
   ]
  },
  {
   "cell_type": "markdown",
   "metadata": {},
   "source": [
    "# Q no 4"
   ]
  },
  {
   "cell_type": "code",
   "execution_count": 4,
   "metadata": {},
   "outputs": [
    {
     "name": "stdout",
     "output_type": "stream",
     "text": [
      "The sum of values in List is 36\n"
     ]
    }
   ],
   "source": [
    "list1 = [1,2,3,4,5,6,8,7]\n",
    "\n",
    "sum = 0\n",
    "for x in range(len(list1)):\n",
    "    sum = sum + list1[x]\n",
    "\n",
    "print(\"The sum of values in List is\",sum)"
   ]
  },
  {
   "cell_type": "markdown",
   "metadata": {},
   "source": [
    "# Q no 5"
   ]
  },
  {
   "cell_type": "code",
   "execution_count": 6,
   "metadata": {},
   "outputs": [
    {
     "name": "stdout",
     "output_type": "stream",
     "text": [
      "Largest number is 33\n"
     ]
    }
   ],
   "source": [
    "list1 = [2,5,6,7,8,3,4,9,10,1,33,21,22,26]\n",
    "\n",
    "largest = max(list1)\n",
    "\n",
    "print(\"Largest number is\",largest)"
   ]
  },
  {
   "cell_type": "markdown",
   "metadata": {},
   "source": [
    "# Q no 6"
   ]
  },
  {
   "cell_type": "code",
   "execution_count": 8,
   "metadata": {},
   "outputs": [
    {
     "name": "stdout",
     "output_type": "stream",
     "text": [
      "1\n",
      "1\n",
      "2\n",
      "3\n"
     ]
    }
   ],
   "source": [
    "a = [1,1,2,3,5,8,13,21]\n",
    "for x in range(len(a)):  \n",
    "    if(a[x] >= 5):\n",
    "        break\n",
    "    print(a[x])"
   ]
  },
  {
   "cell_type": "code",
   "execution_count": null,
   "metadata": {},
   "outputs": [],
   "source": []
  }
 ],
 "metadata": {
  "kernelspec": {
   "display_name": "Python 3",
   "language": "python",
   "name": "python3"
  },
  "language_info": {
   "codemirror_mode": {
    "name": "ipython",
    "version": 3
   },
   "file_extension": ".py",
   "mimetype": "text/x-python",
   "name": "python",
   "nbconvert_exporter": "python",
   "pygments_lexer": "ipython3",
   "version": "3.7.1"
  }
 },
 "nbformat": 4,
 "nbformat_minor": 2
}
