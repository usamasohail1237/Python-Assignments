{
 "cells": [
  {
   "cell_type": "markdown",
   "metadata": {},
   "source": [
    "# Q no 1 "
   ]
  },
  {
   "cell_type": "code",
   "execution_count": 1,
   "metadata": {},
   "outputs": [
    {
     "name": "stdout",
     "output_type": "stream",
     "text": [
      "Enter first 45\n",
      "Enter second5\n",
      "Choose Operation+\n",
      "Addition of 45 and 5 is 50\n"
     ]
    }
   ],
   "source": [
    "input1 = int(input(\"Enter first \"))\n",
    "input2 = int(input(\"Enter second\"))\n",
    "operator = input(\"Choose Operation\")\n",
    "\n",
    "    \n",
    "if(operator == \"+\"):\n",
    "    print(\"Addition of {} and {} is {}\".format(input1,input2,(input1+input2)))\n",
    "elif(operator == \"-\"):\n",
    "    print(\"Subtraction of {} and {} is {}\".format(input1,input2,(input1-input2)))\n",
    "elif(operator == \"*\"):\n",
    "    print(\"Multiplication of {} and {} is {}\".format(input1,input2,(input1*input2)))\n",
    "elif(operator == \"/\"):\n",
    "    print(\"Division of {} and {} is {}\".format(input1,input2,(input1/input2)))\n",
    "else:\n",
    "    print(\"Wrong Choice.\\nPlease choose the correct operator.\")\n",
    "    "
   ]
  },
  {
   "cell_type": "markdown",
   "metadata": {},
   "source": [
    "# Q no 2"
   ]
  },
  {
   "cell_type": "code",
   "execution_count": 2,
   "metadata": {},
   "outputs": [
    {
     "name": "stdout",
     "output_type": "stream",
     "text": [
      "1\n",
      "2\n",
      "1\n",
      "2\n",
      "3\n",
      "5\n",
      "6\n",
      "7\n"
     ]
    }
   ],
   "source": [
    "list1 = [1,2,'A','B',1,2,3,5,6,7]\n",
    "\n",
    "for i in range(len(list1)):\n",
    "    if(type(list1[i]) == int):\n",
    "        print(list1[i])"
   ]
  },
  {
   "cell_type": "markdown",
   "metadata": {},
   "source": [
    "# Q no 3"
   ]
  },
  {
   "cell_type": "code",
   "execution_count": 3,
   "metadata": {},
   "outputs": [
    {
     "name": "stdout",
     "output_type": "stream",
     "text": [
      "{0: 10, 1: 20}\n",
      "final {0: 10, 1: 20, 2: 30}\n"
     ]
    }
   ],
   "source": [
    "dict = {0:10, 1:20}\n",
    "print(dict)\n",
    "dict.update({2:30})\n",
    "print(\"final\",dict)"
   ]
  },
  {
   "cell_type": "markdown",
   "metadata": {},
   "source": [
    "# Q no 4"
   ]
  },
  {
   "cell_type": "code",
   "execution_count": 5,
   "metadata": {},
   "outputs": [
    {
     "name": "stdout",
     "output_type": "stream",
     "text": [
      "Sum 60\n"
     ]
    }
   ],
   "source": [
    "dict2 = {0:10, 1:20,3:30}\n",
    "sum = 0\n",
    "for val in dict2:\n",
    "    sum = sum + dict2[val]\n",
    "print(\"Sum\",sum)"
   ]
  },
  {
   "cell_type": "markdown",
   "metadata": {},
   "source": [
    "# Q no 5"
   ]
  },
  {
   "cell_type": "code",
   "execution_count": 6,
   "metadata": {},
   "outputs": [
    {
     "name": "stdout",
     "output_type": "stream",
     "text": [
      "[1, 12, 4]\n"
     ]
    }
   ],
   "source": [
    "list1 = [1,12,2,12,1,4,5,4]\n",
    "\n",
    "def Repeat(x): \n",
    "    size = len(x) \n",
    "    repeated = [] \n",
    "    for i in range(size): \n",
    "        k = i + 1\n",
    "        for j in range(k, size): \n",
    "            if x[i] == x[j] and x[i] not in repeated: \n",
    "                repeated.append(x[i]) \n",
    "    return repeated \n",
    "\n",
    "print (Repeat(list1)) "
   ]
  },
  {
   "cell_type": "markdown",
   "metadata": {},
   "source": [
    "# Q no 6"
   ]
  },
  {
   "cell_type": "code",
   "execution_count": 8,
   "metadata": {},
   "outputs": [
    {
     "name": "stdout",
     "output_type": "stream",
     "text": [
      "Enter Key2\n",
      "Enter Value33\n",
      "This key is exist operation fail\n"
     ]
    }
   ],
   "source": [
    "dict2 = {1:10, 2:20,3:30,4:40}\n",
    "\n",
    "a = int(input(\"Enter Key\"))\n",
    "b = int(input(\"Enter Value\"))\n",
    "for val in dict2:\n",
    "    if(val == a):\n",
    "        print(\"This key is exist operation fail\")\n",
    "       "
   ]
  },
  {
   "cell_type": "code",
   "execution_count": null,
   "metadata": {},
   "outputs": [],
   "source": []
  }
 ],
 "metadata": {
  "kernelspec": {
   "display_name": "Python 3",
   "language": "python",
   "name": "python3"
  },
  "language_info": {
   "codemirror_mode": {
    "name": "ipython",
    "version": 3
   },
   "file_extension": ".py",
   "mimetype": "text/x-python",
   "name": "python",
   "nbconvert_exporter": "python",
   "pygments_lexer": "ipython3",
   "version": "3.7.1"
  }
 },
 "nbformat": 4,
 "nbformat_minor": 2
}
